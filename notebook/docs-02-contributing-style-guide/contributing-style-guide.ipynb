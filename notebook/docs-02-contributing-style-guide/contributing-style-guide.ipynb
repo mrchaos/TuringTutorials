{
  "cells": [
    {
      "cell_type": "markdown",
      "source": [
        "# Style Guide\n\nMost Turing code follows the [Invenia](https://invenia.ca/labs/)'s style guide. We would like to thank them for allowing us to access and use it. Please don't let not having read it stop you from contributing to Turing! No one will be annoyed if you open a PR with style that doesn't follow these conventions; we will just help you correct it before it gets merged.\n\nThese conventions were originally written at Invenia, taking inspiration from a variety of sources including Python's [PEP8](http://legacy.python.org/dev/peps/pep-0008), Julia's [Notes for Contributors](https://github.com/JuliaLang/julia/blob/master/CONTRIBUTING.md), and Julia's [Style Guide](https://docs.julialang.org/en/v1/manual/style-guide/).\n\nWhat follows is a mixture of a verbatim copy of Invenia's original guide and some of our own modifications.\n\n## A Word on Consistency\n\nWhen adhering to this style it's important to realize that these are guidelines and not rules. This is [stated best in the PEP8](http://legacy.python.org/dev/peps/pep-0008/#a-foolish-consistency-is-the-hobgoblin-of-little-minds):\n\n> A style guide is about consistency. Consistency with this style guide is important. Consistency within a project is more important. Consistency within one module or function is most important.\n\n> But most importantly: know when to be inconsistent – sometimes the style guide just doesn't apply. When in doubt, use your best judgment. Look at other examples and decide what looks best. And don't hesitate to ask!\n\n## Synopsis\n\nAttempt to follow the [Julia Contribution Guidelines](https://github.com/JuliaLang/julia/blob/master/CONTRIBUTING.md#general-formatting-guidelines-for-julia-code-contributions), the [Julia Style Guide](https://docs.julialang.org/en/v1/manual/style-guide/), and this guide. When convention guidelines conflict, this guide takes precedence (known conflicts will be noted in this guide).\n\n  - Use 4 spaces per indentation level, no tabs.\n  - Try to adhere to a 92 character line length limit.\n  - Use upper camel case convention for [modules](https://docs.julialang.org/en/v1/manual/modules/) and [types](https://docs.julialang.org/en/v1/manual/types/).\n  - Use lower case with underscores for method names (note: Julia code likes to use lower case without underscores).\n  - Comments are good, try to explain the intentions of the code.\n  - Use whitespace to make the code more readable.\n  - No whitespace at the end of a line (trailing whitespace).\n  - Avoid padding brackets with spaces. ex. `Int64(value)` preferred over `Int64( value )`.\n\n## Editor Configuration\n\n### Sublime Text Settings\n\nIf you are a user of Sublime Text we recommend that you have the following options in your Julia syntax specific settings. To modify these settings first open any Julia file (`*.jl`) in Sublime Text. Then navigate to: `Preferences > Settings - More > Syntax Specific - User`\n\n```json\n{\n    \"translate_tabs_to_spaces\": true,\n    \"tab_size\": 4,\n    \"trim_trailing_white_space_on_save\": true,\n    \"ensure_newline_at_eof_on_save\": true,\n    \"rulers\": [92]\n}\n```\n\n### Vim Settings\n\nIf you are a user of Vim we recommend that you add the following options to your `.vimrc` file.\n\n```\nset tabstop=4                             \" Sets tabstops to a width of four columns.\nset softtabstop=4                         \" Determines the behaviour of TAB and BACKSPACE keys with expandtab.\nset shiftwidth=4                          \" Determines the results of >>, <<, and ==.\n\nau FileType julia setlocal expandtab      \" Replaces tabs with spaces.\nau FileType julia setlocal colorcolumn=93 \" Highlights column 93 to help maintain the 92 character line limit.\n```\n\nBy default, Vim seems to guess that `.jl` files are written in Lisp. To ensure that Vim recognizes Julia files you can manually have it check for the `.jl` extension, but a better solution is to install [Julia-Vim](https://github.com/JuliaLang/julia-vim), which also includes proper syntax highlighting and a few cool other features.\n\n## Test Formatting\n\n### Testsets\n\nJulia provides [test sets](https://docs.julialang.org/en/v1/stdlib/Test/#Working-with-Test-Sets-1) which allows developers to group tests into logical groupings. Test sets can be nested and ideally packages should only have a single \"root\" test set. It is recommended that the \"runtests.jl\" file contains the root test set which contains the remainder of the tests:"
      ],
      "metadata": {}
    },
    {
      "outputs": [],
      "cell_type": "code",
      "source": [
        "@testset \"PkgExtreme\" begin\n    include(\"arithmetic.jl\")\n    include(\"utils.jl\")\nend"
      ],
      "metadata": {},
      "execution_count": null
    },
    {
      "cell_type": "markdown",
      "source": [
        "The file structure of the `test` folder should mirror that of the `src` folder. Every file in `src` should have a complementary file in the `test` folder, containing tests relevant to that file's contents.\n\n### Comparisons\n\nMost tests are written in the form `@test x == y`. Since the `==` function doesn't take types into account, tests like the following are valid: `@test 1.0 == 1`. Avoid adding visual noise into test comparisons:"
      ],
      "metadata": {}
    },
    {
      "outputs": [],
      "cell_type": "code",
      "source": [
        "# Yes:\n@test value == 0\n\n# No:\n@test value == 0.0"
      ],
      "metadata": {},
      "execution_count": null
    },
    {
      "cell_type": "markdown",
      "source": [
        "In cases where you are checking the numerical validity of a model's parameter estimates, please use the `check_numerical` function found in `test/test_utils/numerical_tests.jl`. This function will evaluate a model's parameter estimates using tolerance levels `atol` and `rtol`. Testing will only be performed if you are running the test suite locally or if Travis is executing the \"Numerical\" testing stage.\n\nHere is an example of usage:"
      ],
      "metadata": {}
    },
    {
      "outputs": [],
      "cell_type": "code",
      "source": [
        "# Check that m and s are plus or minus one from 1.5 and 2.2, respectively.\ncheck_numerical(chain, [:m, :s], [1.5, 2.2]; atol=1.0)\n\n# Checks the estimates for a default gdemo model using values 1.5 and 2.0.\ncheck_gdemo(chain; atol=0.1)\n\n# Checks the estimates for a default MoG model.\ncheck_MoGtest_default(chain; atol=0.1)"
      ],
      "metadata": {},
      "execution_count": null
    }
  ],
  "nbformat_minor": 2,
  "metadata": {
    "language_info": {
      "file_extension": ".jl",
      "mimetype": "application/julia",
      "name": "julia",
      "version": "1.9.2"
    },
    "kernelspec": {
      "name": "julia-1.9",
      "display_name": "Julia 1.9.2",
      "language": "julia"
    }
  },
  "nbformat": 4
}
