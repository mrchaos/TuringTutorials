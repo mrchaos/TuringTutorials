{
  "cells": [
    {
      "cell_type": "markdown",
      "source": [
        "# Getting Started\n\n## Installation\n\nTo use Turing, you need to install Julia first and then install Turing.\n\n### Install Julia\n\nYou will need to install Julia 1.3 or greater, which you can get from [the official Julia website](http://julialang.org/downloads/).\n\n### Install Turing.jl\n\nTuring is an officially registered Julia package, so you can install a stable version of Turing by running the following in the Julia REPL:"
      ],
      "metadata": {}
    },
    {
      "outputs": [],
      "cell_type": "code",
      "source": [
        "using Pkg\nPkg.add(\"Turing\")"
      ],
      "metadata": {},
      "execution_count": null
    },
    {
      "cell_type": "markdown",
      "source": [
        "You can check if all tests pass by running `Pkg.test(\"Turing\")` (it might take a long time)\n\n## Example\n\nHere's a simple example showing Turing in action.\n\nFirst, we can load the Turing and StatsPlots modules"
      ],
      "metadata": {}
    },
    {
      "outputs": [],
      "cell_type": "code",
      "source": [
        "using Turing\nusing StatsPlots"
      ],
      "metadata": {},
      "execution_count": null
    },
    {
      "cell_type": "markdown",
      "source": [
        "Then, we define a simple Normal model with unknown mean and variance"
      ],
      "metadata": {}
    },
    {
      "outputs": [],
      "cell_type": "code",
      "source": [
        "@model function gdemo(x, y)\n    s² ~ InverseGamma(2, 3)\n    m ~ Normal(0, sqrt(s²))\n    x ~ Normal(m, sqrt(s²))\n    return y ~ Normal(m, sqrt(s²))\nend"
      ],
      "metadata": {},
      "execution_count": null
    },
    {
      "cell_type": "markdown",
      "source": [
        "Then we can run a sampler to collect results. In this case, it is a Hamiltonian Monte Carlo sampler"
      ],
      "metadata": {}
    },
    {
      "outputs": [],
      "cell_type": "code",
      "source": [
        "chn = sample(gdemo(1.5, 2), NUTS(), 1000)"
      ],
      "metadata": {},
      "execution_count": null
    },
    {
      "cell_type": "markdown",
      "source": [
        "We can plot the results"
      ],
      "metadata": {}
    },
    {
      "outputs": [],
      "cell_type": "code",
      "source": [
        "plot(chn)"
      ],
      "metadata": {},
      "execution_count": null
    },
    {
      "cell_type": "markdown",
      "source": [
        "In this case, because we use the [normal-inverse gamma distribution](https://en.wikipedia.org/wiki/Normal-inverse-gamma_distribution)\nas a [conjugate prior](https://en.wikipedia.org/wiki/Conjugate_prior), we can compute\nits updated mean as follows:"
      ],
      "metadata": {}
    },
    {
      "outputs": [],
      "cell_type": "code",
      "source": [
        "s² = InverseGamma(2, 3)\nm = Normal(0, 1)\ndata = [1.5, 2]\nx_bar = mean(data)\nN = length(data)\n\nmean_exp = (m.σ * m.μ + N * x_bar) / (m.σ + N)"
      ],
      "metadata": {},
      "execution_count": null
    },
    {
      "cell_type": "markdown",
      "source": [
        "We can also compute the updated variance"
      ],
      "metadata": {}
    },
    {
      "outputs": [],
      "cell_type": "code",
      "source": [
        "updated_alpha = shape(s²) + (N / 2)\nupdated_beta =\n    scale(s²) +\n    (1 / 2) * sum((data[n] - x_bar)^2 for n in 1:N) +\n    (N * m.σ) / (N + m.σ) * ((x_bar)^2) / 2\nvariance_exp = updated_beta / (updated_alpha - 1)"
      ],
      "metadata": {},
      "execution_count": null
    },
    {
      "cell_type": "markdown",
      "source": [
        "Finally, we can check if these expectations align with our HMC approximations\nfrom earlier. We can compute samples from a normal-inverse gamma following the\nequations given [here](https://en.wikipedia.org/wiki/Normal-inverse-gamma_distribution#Generating_normal-inverse-gamma_random_variates)."
      ],
      "metadata": {}
    },
    {
      "outputs": [],
      "cell_type": "code",
      "source": [
        "function sample_posterior(alpha, beta, mean, lambda, iterations)\n    samples = []\n    for i in 1:iterations\n        sample_variance = rand(InverseGamma(alpha, beta), 1)\n        sample_x = rand(Normal(mean, sqrt(sample_variance[1]) / lambda), 1)\n        sanples = append!(samples, sample_x)\n    end\n    return samples\nend\n\nanalytical_samples = sample_posterior(updated_alpha, updated_beta, mean_exp, 2, 1000);"
      ],
      "metadata": {},
      "execution_count": null
    },
    {
      "outputs": [],
      "cell_type": "code",
      "source": [
        "density(analytical_samples; label=\"Posterior (Analytical)\")\ndensity!(chn[:m]; label=\"Posterior (HMC)\")"
      ],
      "metadata": {},
      "execution_count": null
    }
  ],
  "nbformat_minor": 2,
  "metadata": {
    "language_info": {
      "file_extension": ".jl",
      "mimetype": "application/julia",
      "name": "julia",
      "version": "1.9.2"
    },
    "kernelspec": {
      "name": "julia-1.9",
      "display_name": "Julia 1.9.2",
      "language": "julia"
    }
  },
  "nbformat": 4
}
