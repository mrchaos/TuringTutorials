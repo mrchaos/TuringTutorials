{
  "cells": [
    {
      "cell_type": "markdown",
      "source": [
        "# How Turing implements AbstractMCMC\n\nPrerequisite: [Interface guide](https://turinglang.org/dev/docs/for-developers/interface).\n\n## Introduction\n\nConsider the following Turing, code block:"
      ],
      "metadata": {}
    },
    {
      "outputs": [],
      "cell_type": "code",
      "source": [
        "using Turing\n\n@model function gdemo(x, y)\n    s² ~ InverseGamma(2, 3)\n    m ~ Normal(0, sqrt(s²))\n    x ~ Normal(m, sqrt(s²))\n    return y ~ Normal(m, sqrt(s²))\nend\n\nmod = gdemo(1.5, 2)\nalg = IS()\nn_samples = 1000\n\nchn = sample(mod, alg, n_samples)"
      ],
      "metadata": {},
      "execution_count": null
    },
    {
      "cell_type": "markdown",
      "source": [
        "The function `sample` is part of the AbstractMCMC interface. As explained in the [interface guide](https://turinglang.org/dev/docs/for-developers/interface), building a a sampling method that can be used by `sample` consists in overloading the structs and functions in `AbstractMCMC`. The interface guide also gives a standalone example of their implementation, [`AdvancedMH.jl`]().\n\nTuring sampling methods (most of which are written [here](https://github.com/TuringLang/Turing.jl/tree/master/src/inference)) also implement `AbstractMCMC`. Turing defines a particular architecture for `AbstractMCMC` implementations, that enables working with models defined by the `@model` macro, and uses DynamicPPL as a backend. The goal of this page is to describe this architecture, and how you would go about implementing your own sampling method in Turing, using Importance Sampling as an example. I don't go into all the details: for instance, I don't address selectors or parallelism.\n\nFirst, we explain how Importance Sampling works in the abstract. Consider the model defined in the first code block. Mathematically, it can be written:\n\n```math\n\\begin{align*}\ns &\\sim \\text{InverseGamma}(2, 3), \\\\\\\\\nm &\\sim \\text{Normal}(0, \\sqrt{s}), \\\\\\\\\nx &\\sim \\text{Normal}(m, \\sqrt{s}), \\\\\\\\\ny &\\sim \\text{Normal}(m, \\sqrt{s}).\n\\end{align*}\n```\n\nThe **latent** variables are ``s`` and ``m``, the **observed** variables are ``x`` and ``y``. The model **joint** distribution ``p(s,m,x,y)`` decomposes into the **prior** ``p(s,m)`` and the **likelihood** ``p(x,y \\mid s,m).`` Since ``x = 1.5`` and ``y = 2`` are observed, the goal is to infer the **posterior** distribution ``p(s,m \\mid x,y).``\n\nImportance Sampling produces independent samples ``(s_i, m_i)`` from the prior distribution. It also outputs unnormalized weights\n\n```math\nw_i = \\frac {p(x,y,s_i,m_i)} {p(s_i, m_i)} = p(x,y \\mid s_i, m_i)\n```\n\nsuch that the empirical distribution\n\n```math\n\\frac{1}{N} \\sum_{i =1}^N \\frac {w_i} {\\sum_{j=1}^N w_j} \\delta_{(s_i, m_i)}\n```\n\nis a good approximation of the posterior.\n\n## 1. Define a Sampler\n\nRecall the last line of the above code block:"
      ],
      "metadata": {}
    },
    {
      "outputs": [],
      "cell_type": "code",
      "source": [
        "chn = sample(mod, alg, n_samples)"
      ],
      "metadata": {},
      "execution_count": null
    },
    {
      "cell_type": "markdown",
      "source": [
        "Here `sample` takes as arguments a **model** `mod`, an **algorithm** `alg`, and a **number of samples** `n_samples`, and returns an instance `chn` of `Chains` which can be analysed using the functions in `MCMCChains`.\n\n### Models\n\nTo define a **model**, you declare a joint distribution on variables in the `@model` macro, and specify which variables are observed and which should be inferred, as well as the value of the observed variables. Thus, when implementing Importance Sampling,"
      ],
      "metadata": {}
    },
    {
      "outputs": [],
      "cell_type": "code",
      "source": [
        "mod = gdemo(1.5, 2)"
      ],
      "metadata": {},
      "execution_count": null
    },
    {
      "cell_type": "markdown",
      "source": [
        "creates an instance `mod` of the struct `Model`, which corresponds to the observations of a value of `1.5` for `x`, and a value of `2` for `y`.\n\nThis is all handled by DynamicPPL, more specifically [here](https://github.com/TuringLang/DynamicPPL.jl/blob/master/src/model.jl). I will return to how models are used to inform sampling algorithms [below](#assumeobserve).\n\n### Algorithms\n\nAn **algorithm** is just a sampling method: in Turing, it is a subtype of the abstract type `InferenceAlgorithm`. Defining an algorithm may require specifying a few high-level parameters. For example, \"Hamiltonian Monte-Carlo\" may be too vague, but \"Hamiltonian Monte Carlo with  10 leapfrog steps per proposal and a stepsize of 0.01\" is an algorithm. \"Metropolis-Hastings\" may be too vague, but \"Metropolis-Hastings with proposal distribution `p`\" is an algorithm.\nThus"
      ],
      "metadata": {}
    },
    {
      "outputs": [],
      "cell_type": "code",
      "source": [
        "stepsize = 0.01\nL = 10\nalg = HMC(stepsize, L)"
      ],
      "metadata": {},
      "execution_count": null
    },
    {
      "cell_type": "markdown",
      "source": [
        "defines a Hamiltonian Monte-Carlo algorithm, an instance of `HMC`, which is a subtype of `InferenceAlgorithm`.\n\nIn the case of Importance Sampling, there is no need to specify additional parameters:"
      ],
      "metadata": {}
    },
    {
      "outputs": [],
      "cell_type": "code",
      "source": [
        "alg = IS()"
      ],
      "metadata": {},
      "execution_count": null
    },
    {
      "cell_type": "markdown",
      "source": [
        "defines an Importance Sampling algorithm, an instance of `IS` which is a subtype of `InferenceAlgorithm`.\n\nWhen creating your own Turing sampling method, you must therefore build a subtype of `InferenceAlgorithm` corresponding to your method.\n\n### Samplers\n\nSamplers are **not** the same as algorithms. An algorithm is a generic sampling method, a sampler is an object that stores information about how algorithm and model interact during sampling, and is modified as sampling progresses. The `Sampler` struct is defined in DynamicPPL.\n\nTuring implements `AbstractMCMC`'s `AbstractSampler` with the `Sampler` struct defined in `DynamicPPL`. The most important attributes of an instance `spl` of `Sampler` are:\n\n  - `spl.alg`: the sampling method used, an instance of a subtype of `InferenceAlgorithm`\n  - `spl.state`: information about the sampling process, see [below](#States)\n\nWhen you call `sample(mod, alg, n_samples)`, Turing first uses `model` and `alg` to build an instance `spl` of `Sampler` , then calls the native `AbstractMCMC` function `sample(mod, spl, n_samples)`.\n\nWhen you define your own Turing sampling method, you must therefore build:\n\n  - a **sampler constructor** that uses a model and an algorithm to initialize an instance of `Sampler`. For Importance Sampling:"
      ],
      "metadata": {}
    },
    {
      "outputs": [],
      "cell_type": "code",
      "source": [
        "function Sampler(alg::IS, model::Model, s::Selector)\n    info = Dict{Symbol,Any}()\n    state = ISState(model)\n    return Sampler(alg, info, s, state)\nend"
      ],
      "metadata": {},
      "execution_count": null
    },
    {
      "cell_type": "markdown",
      "source": [
        "- a **state** struct implementing `AbstractSamplerState` corresponding to your method: we cover this in the following paragraph.\n\n### States\n\nThe `vi` field contains all the important information about sampling: first and foremost, the values of all the samples, but also the distributions from which they are sampled, the names of model parameters, and other metadata. As we will see below, many important steps during sampling correspond to queries or updates to `spl.state.vi`.\n\nBy default, you can use `SamplerState`, a concrete type defined in `inference/Inference.jl`, which extends `AbstractSamplerState` and has no field except for `vi`:"
      ],
      "metadata": {}
    },
    {
      "outputs": [],
      "cell_type": "code",
      "source": [
        "mutable struct SamplerState{VIType<:VarInfo} <: AbstractSamplerState\n    vi::VIType\nend"
      ],
      "metadata": {},
      "execution_count": null
    },
    {
      "cell_type": "markdown",
      "source": [
        "When doing Importance Sampling, we care not only about the values of the samples but also their weights. We will see below that the weight of each sample is also added to `spl.state.vi`. Moreover, the average\n\n```math\n\\frac 1 N \\sum_{j=1}^N w_i = \\frac 1 N \\sum_{j=1}^N p(x,y \\mid s_i, m_i)\n```\n\nof the sample weights is a particularly important quantity:\n\n  - it is used to **normalize** the **empirical approximation** of the posterior distribution\n  - its logarithm is the importance sampling **estimate** of the **log evidence** ``\\log p(x, y)``\n\nTo avoid having to compute it over and over again, `is.jl`defines an IS-specific concrete type `ISState` for sampler states, with an additional field `final_logevidence` containing\n\n```math\n\\log \\frac 1 N \\sum_{j=1}^N w_i.\n```"
      ],
      "metadata": {}
    },
    {
      "outputs": [],
      "cell_type": "code",
      "source": [
        "mutable struct ISState{V<:VarInfo,F<:AbstractFloat} <: AbstractSamplerState\n    vi::V\n    final_logevidence::F\nend\n\n# additional constructor\nISState(model::Model) = ISState(VarInfo(model), 0.0)"
      ],
      "metadata": {},
      "execution_count": null
    },
    {
      "cell_type": "markdown",
      "source": [
        "The following diagram summarizes the hierarchy presented above.\n\n![hierarchy](how_turing_implements_abstractmcmc_files/hierarchy.png)\n\n## 2. Overload the functions used inside mcmcsample\n\nA lot of the things here are method-specific. However Turing also has some functions that make it easier for you to implement these functions, for examples .\n\n### Transitions\n\n`AbstractMCMC` stores information corresponding to each individual sample in objects called `transition`, but does not specify what the structure of these objects could be. You could decide to implement a type `MyTransition` for transitions corresponding to the specifics of your methods. However, there are many situations in which the only information you need for each sample is:\n\n  - its value: ``\\theta``\n  - log of the joint probability of the observed data and this sample: `lp`\n\n`Inference.jl` [defines](https://github.com/TuringLang/Turing.jl/blob/master/src/inference/Inference.jl#L103) a struct `Transition`, which corresponds to this default situation"
      ],
      "metadata": {}
    },
    {
      "outputs": [],
      "cell_type": "code",
      "source": [
        "struct Transition{T,F<:AbstractFloat}\n    θ::T\n    lp::F\nend"
      ],
      "metadata": {},
      "execution_count": null
    },
    {
      "cell_type": "markdown",
      "source": [
        "It also [contains](https://github.com/TuringLang/Turing.jl/blob/master/src/inference/Inference.jl#L108) a constructor that builds an instance of `Transition` from an instance `spl` of `Sampler`: ``\\theta`` is `spl.state.vi` converted to a `namedtuple`, and `lp` is `getlogp(spl.state.vi)`. `is.jl` uses this default constructor at the end of the `step!` function [here](https://github.com/TuringLang/Turing.jl/blob/master/src/inference/is.jl#L58).\n\n### How `sample` works\n\nA crude summary, which ignores things like parallelism, is the following:\n\n`sample` calls `mcmcsample`, which calls\n\n  - `sample_init!` to set things up\n  - `step!` repeatedly to produce multiple new transitions\n  - `sample_end!` to perform operations once all samples have been obtained\n  - `bundle_samples` to convert a vector of transitions into a more palatable type, for instance a `Chain`.\n\nYou can of course implement all of these functions, but `AbstractMCMC` as well as Turing also provide default implementations for simple cases. For instance, importance sampling uses the default implementations of `sample_init!` and `bundle_samples`, which is why you don't see code for them inside `is.jl`.\n\n## 3. Overload assume and observe\n\nThe functions mentioned above, such as `sample_init!`, `step!`, etc.,  must of course use information about the model in order to generate samples! In particular, these functions may need **samples from distributions** defined in the model, or to **evaluate the density of these distributions** at some values of the corresponding parameters or observations.\n\nFor an example of the former, consider **Importance Sampling** as defined in `is.jl`. This implementation of Importance Sampling uses the model prior distribution as a proposal distribution, and therefore requires **samples from the prior distribution** of the model. Another example is **Approximate Bayesian Computation**, which requires multiple **samples from the model prior and likelihood distributions** in order to generate a single sample.\n\nAn example of the latter is the **Metropolis-Hastings** algorithm. At every step of sampling from a target posterior\n\n```math\np(\\theta \\mid x_{\\text{obs}}),\n```\n\nin order to compute the acceptance ratio, you need to **evaluate the model joint density**\n\n```math\np\\left(\\theta_{\\text{prop}}, x_{\\text{obs}}\\right)\n```\n\nwith ``\\theta_{\\text{prop}}`` a sample from the proposal and ``x_{\\text{obs}}`` the observed data.\n\nThis begs the question: how can these functions access model information during sampling? Recall that the model is stored as an instance `m` of `Model`. One of the attributes of `m` is the model evaluation function `m.f`, which is built by compiling the `@model` macro. Executing `f` runs the tilde statements of the model in order, and adds model information to the sampler (the instance of `Sampler` that stores information about the ongoing sampling process) at each step (see [here](https://turinglang.org/dev/docs/for-developers/compiler) for more information about how the `@model` macro is compiled). The DynamicPPL functions `assume` and `observe` determine what kind of information to add to the sampler for every tilde statement.\n\nConsider an instance `m` of `Model` and a sampler `spl`, with associated `VarInfo` `vi = spl.state.vi`. At some point during the sampling process, an AbstractMCMC function such as `step!` calls  `m(vi, ...)`, which calls the model evaluation function `m.f(vi, ...)`.\n\n  - for every tilde statement in the `@model` macro, `m.f(vi, ...)` returns model-related information (samples, value of the model density, etc.), and adds it to `vi`. How does it do that?\n    \n      + recall that the code for `m.f(vi, ...)` is automatically generated by compilation of the `@model` macro\n      + for every tilde statement in the `@model` declaration, this code contains a call to `assume(vi, ...)` if the variable on the LHS of the tilde is a **model parameter to infer**, and `observe(vi, ...)` if the variable on the LHS of the tilde is an **observation**\n      + in the file corresponding to your sampling method (ie in `Turing.jl/src/inference/<your_method>.jl`), you have **overloaded** `assume` and `observe`, so that they can modify `vi` to include the information and samples that you care about!\n      + at a minimum, `assume` and `observe` return the log density `lp` of the sample or observation. the model evaluation function then immediately calls `acclogp!!(vi, lp)`, which adds `lp` to the value of the log joint density stored in `vi`.\n\nHere's what `assume` looks like for Importance Sampling:"
      ],
      "metadata": {}
    },
    {
      "outputs": [],
      "cell_type": "code",
      "source": [
        "function DynamicPPL.assume(rng, spl::Sampler{<:IS}, dist::Distribution, vn::VarName, vi)\n    r = rand(rng, dist)\n    push!(vi, vn, r, dist, spl)\n    return r, 0\nend"
      ],
      "metadata": {},
      "execution_count": null
    },
    {
      "cell_type": "markdown",
      "source": [
        "The function first generates a sample `r` from the distribution `dist` (the right hand side of the tilde statement). It then adds `r` to `vi`, and returns `r` and 0.\n\nThe `observe` function is even simpler:"
      ],
      "metadata": {}
    },
    {
      "outputs": [],
      "cell_type": "code",
      "source": [
        "function DynamicPPL.observe(spl::Sampler{<:IS}, dist::Distribution, value, vi)\n    return logpdf(dist, value)\nend"
      ],
      "metadata": {},
      "execution_count": null
    },
    {
      "cell_type": "markdown",
      "source": [
        "It simply returns the density (in the discrete case, the probability) of the observed value under the distribution `dist`.\n\n## 4. Summary: Importance Sampling step by step\n\nWe focus on the AbstractMCMC functions that are overridden in `is.jl` and executed inside `mcmcsample`: `step!`, which is called `n_samples` times, and `sample_end!`, which is executed once after those `n_samples` iterations.\n\n  - During the ``i``-th iteration, `step!` does 3 things:\n    \n      + `empty!!(spl.state.vi)`: remove information about the previous sample from the sampler's `VarInfo`\n    \n      + `model(rng, spl.state.vi, spl)`: call the model evaluation function\n        \n          * calls to `assume` add the samples from the prior ``s_i`` and ``m_i`` to `spl.state.vi`\n          * calls to both `assume` or `observe` are followed by the line `acclogp!!(vi, lp)`, where `lp` is an output of `assume` and `observe`\n          * `lp` is set to 0 after `assume`, and to the value of the density at the observation after `observe`\n          * when all the tilde statements have been covered, `spl.state.vi.logp[]` is the sum of the `lp`, i.e., the likelihood ``\\log p(x, y \\mid s_i, m_i) = \\log p(x \\mid s_i, m_i) + \\log p(y \\mid s_i, m_i)`` of the observations given the latent variable samples ``s_i`` and ``m_i``.\n      + `return Transition(spl)`: build a transition from the sampler, and return that transition\n        \n          * the transition's `vi` field is simply `spl.state.vi`\n          * the `lp` field contains the likelihood `spl.state.vi.logp[]`\n\n  - When the, `n_samples` iterations are completed, `sample_end!` fills the `final_logevidence` field of `spl.state`\n    \n      + it simply takes the logarithm of the average of the sample weights, using the log weights for numerical stability"
      ],
      "metadata": {}
    }
  ],
  "nbformat_minor": 2,
  "metadata": {
    "language_info": {
      "file_extension": ".jl",
      "mimetype": "application/julia",
      "name": "julia",
      "version": "1.9.2"
    },
    "kernelspec": {
      "name": "julia-1.9",
      "display_name": "Julia 1.9.2",
      "language": "julia"
    }
  },
  "nbformat": 4
}
