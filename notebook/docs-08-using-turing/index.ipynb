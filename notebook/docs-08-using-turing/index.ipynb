{
  "cells": [
    {
      "cell_type": "markdown",
      "source": [
        "# Turing Documentation\n\nWelcome to the documentation for Turing. Turing is a general-purpose probabilistic programming language for robust,\nefficient Bayesian inference and decision making. Current features include:\n\n  - General-purpose probabilistic programming with an intuitive modelling interface;\n  - Robust, efficient [Hamiltonian Monte Carlo (HMC)](https://github.com/TuringLang/AdvancedHMC.jl) sampling for differentiable posterior distributions;\n  - Particle MCMC sampling for complex posterior distributions involving discrete variables and stochastic control flow; and\n  - Gibbs sampling that combines particle MCMC, HMC and random-walk MH (RWMH) etc."
      ],
      "metadata": {}
    },
    {
      "outputs": [],
      "cell_type": "code",
      "source": [
        ""
      ],
      "metadata": {},
      "execution_count": null
    }
  ],
  "nbformat_minor": 2,
  "metadata": {
    "language_info": {
      "file_extension": ".jl",
      "mimetype": "application/julia",
      "name": "julia",
      "version": "1.9.2"
    },
    "kernelspec": {
      "name": "julia-1.9",
      "display_name": "Julia 1.9.2",
      "language": "julia"
    }
  },
  "nbformat": 4
}
