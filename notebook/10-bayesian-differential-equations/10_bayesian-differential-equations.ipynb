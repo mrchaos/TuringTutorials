{
  "cells": [
    {
      "cell_type": "markdown",
      "source": [
        "Most of the scientific community deals with the basic problem of trying to mathematically model the reality around them and this often involves dynamical systems. The general trend to model these complex dynamical systems is through the use of differential equations.\nDifferential equation models often have non-measurable parameters.\nThe popular “forward-problem” of simulation consists of solving the differential equations for a given set of parameters, the “inverse problem” to simulation, known as parameter estimation, is the process of utilizing data to determine these model parameters.\nBayesian inference provides a robust approach to parameter estimation with quantified uncertainty."
      ],
      "metadata": {}
    },
    {
      "outputs": [],
      "cell_type": "code",
      "source": [
        "using Turing\nusing DifferentialEquations\n\n# Load StatsPlots for visualizations and diagnostics.\nusing StatsPlots\n\nusing LinearAlgebra\n\n# Set a seed for reproducibility.\nusing Random\nRandom.seed!(14);"
      ],
      "metadata": {},
      "execution_count": null
    },
    {
      "cell_type": "markdown",
      "source": [
        "## The Lotka-Volterra Model\n\nThe Lotka–Volterra equations, also known as the predator–prey equations, are a pair of first-order nonlinear differential equations.\nThese differential equations are frequently used to describe the dynamics of biological systems in which two species interact, one as a predator and the other as prey.\nThe populations change through time according to the pair of equations\n\n$$\n\\begin{aligned}\n\\frac{\\mathrm{d}x}{\\mathrm{d}t} &= (\\alpha - \\beta y(t))x(t), \\\\\n\\frac{\\mathrm{d}y}{\\mathrm{d}t} &= (\\delta x(t) - \\gamma)y(t)\n\\end{aligned}\n$$\n\nwhere $x(t)$ and $y(t)$ denote the populations of prey and predator at time $t$, respectively, and $\\alpha, \\beta, \\gamma, \\delta$ are positive parameters.\n\nWe implement the Lotka-Volterra model and simulate it with parameters $\\alpha = 1.5$, $\\beta = 1$, $\\gamma = 3$, and $\\delta = 1$ and initial conditions $x(0) = y(0) = 1$."
      ],
      "metadata": {}
    },
    {
      "outputs": [],
      "cell_type": "code",
      "source": [
        "# Define Lotka-Volterra model.\nfunction lotka_volterra(du, u, p, t)\n    # Model parameters.\n    α, β, γ, δ = p\n    # Current state.\n    x, y = u\n\n    # Evaluate differential equations.\n    du[1] = (α - β * y) * x # prey\n    du[2] = (δ * x - γ) * y # predator\n\n    return nothing\nend\n\n# Define initial-value problem.\nu0 = [1.0, 1.0]\np = [1.5, 1.0, 3.0, 1.0]\ntspan = (0.0, 10.0)\nprob = ODEProblem(lotka_volterra, u0, tspan, p)\n\n# Plot simulation.\nplot(solve(prob, Tsit5()))"
      ],
      "metadata": {},
      "execution_count": null
    },
    {
      "cell_type": "markdown",
      "source": [
        "We generate noisy observations to use for the parameter estimation tasks in this tutorial.\nWith the [`saveat` argument](https://docs.sciml.ai/latest/basics/common_solver_opts/) we specify that the solution is stored only at `0.1` time units.\nTo make the example more realistic we add random normally distributed noise to the simulation."
      ],
      "metadata": {}
    },
    {
      "outputs": [],
      "cell_type": "code",
      "source": [
        "sol = solve(prob, Tsit5(); saveat=0.1)\nodedata = Array(sol) + 0.8 * randn(size(Array(sol)))\n\n# Plot simulation and noisy observations.\nplot(sol; alpha=0.3)\nscatter!(sol.t, odedata'; color=[1 2], label=\"\")"
      ],
      "metadata": {},
      "execution_count": null
    },
    {
      "cell_type": "markdown",
      "source": [
        "Alternatively, we can use real-world data from Hudson’s Bay Company records (an Stan implementation with slightly different priors can be found here: https://mc-stan.org/users/documentation/case-studies/lotka-volterra-predator-prey.html).\n\n## Direct Handling of Bayesian Estimation with Turing\n\nPreviously, functions in Turing and DifferentialEquations were not inter-composable, so Bayesian inference of differential equations needed to be handled by another package called [DiffEqBayes.jl](https://github.com/SciML/DiffEqBayes.jl) (note that DiffEqBayes works also with CmdStan.jl, Turing.jl, DynamicHMC.jl and ApproxBayes.jl - see the [DiffEqBayes docs](https://docs.sciml.ai/latest/analysis/parameter_estimation/#Bayesian-Methods-1) for more info).\n\nNowadays, however, Turing and DifferentialEquations are completely composable and we can just simulate differential equations inside a Turing `@model`.\nTherefore, we write the Lotka-Volterra parameter estimation problem using the Turing `@model` macro as below:"
      ],
      "metadata": {}
    },
    {
      "outputs": [],
      "cell_type": "code",
      "source": [
        "@model function fitlv(data, prob)\n    # Prior distributions.\n    σ ~ InverseGamma(2, 3)\n    α ~ truncated(Normal(1.5, 0.5); lower=0.5, upper=2.5)\n    β ~ truncated(Normal(1.2, 0.5); lower=0, upper=2)\n    γ ~ truncated(Normal(3.0, 0.5); lower=1, upper=4)\n    δ ~ truncated(Normal(1.0, 0.5); lower=0, upper=2)\n\n    # Simulate Lotka-Volterra model. \n    p = [α, β, γ, δ]\n    predicted = solve(prob, Tsit5(); p=p, saveat=0.1)\n\n    # Observations.\n    for i in 1:length(predicted)\n        data[:, i] ~ MvNormal(predicted[i], σ^2 * I)\n    end\n\n    return nothing\nend\n\nmodel = fitlv(odedata, prob)\n\n# Sample 3 independent chains with forward-mode automatic differentiation (the default).\nchain = sample(model, NUTS(), MCMCSerial(), 1000, 3; progress=false)"
      ],
      "metadata": {},
      "execution_count": null
    },
    {
      "cell_type": "markdown",
      "source": [
        "The estimated parameters are close to the parameter values the observations were generated with.\nWe can also check visually that the chains have converged."
      ],
      "metadata": {}
    },
    {
      "outputs": [],
      "cell_type": "code",
      "source": [
        "plot(chain)"
      ],
      "metadata": {},
      "execution_count": null
    },
    {
      "cell_type": "markdown",
      "source": [
        "### Data retrodiction\n\nIn Bayesian analysis it is often useful to retrodict the data, i.e. generate simulated data using samples from the posterior distribution, and compare to the original data (see for instance section 3.3.2 - model checking of McElreath's book \"Statistical Rethinking\").\nHere, we solve the ODE for 300 randomly picked posterior samples in the `chain`.\nWe plot the ensemble of solutions to check if the solution resembles the data.\nThe 300 retrodicted time courses from the posterior are plotted in gray, the noisy observations are shown as blue and red dots, and the green and purple lines are the ODE solution that was used to generate the data."
      ],
      "metadata": {}
    },
    {
      "outputs": [],
      "cell_type": "code",
      "source": [
        "plot(; legend=false)\nposterior_samples = sample(chain[[:α, :β, :γ, :δ]], 300; replace=false)\nfor p in eachrow(Array(posterior_samples))\n    sol_p = solve(prob, Tsit5(); p=p, saveat=0.1)\n    plot!(sol_p; alpha=0.1, color=\"#BBBBBB\")\nend\n\n# Plot simulation and noisy observations.\nplot!(sol; color=[1 2], linewidth=1)\nscatter!(sol.t, odedata'; color=[1 2])"
      ],
      "metadata": {},
      "execution_count": null
    },
    {
      "cell_type": "markdown",
      "source": [
        "We can see that, even though we added quite a bit of noise to the data the posterior distribution reproduces quite accurately the \"true\" ODE solution.\n\n## Lotka-Volterra model without data of prey\n\nOne can also perform parameter inference for a Lotka-Volterra model with incomplete data.\nFor instance, let us suppose we have only observations of the predators but not of the prey.\nI.e., we fit the model only to the $y$ variable of the system without providing any data for $x$:"
      ],
      "metadata": {}
    },
    {
      "outputs": [],
      "cell_type": "code",
      "source": [
        "@model function fitlv2(data::AbstractVector, prob)\n    # Prior distributions.\n    σ ~ InverseGamma(2, 3)\n    α ~ truncated(Normal(1.5, 0.5); lower=0.5, upper=2.5)\n    β ~ truncated(Normal(1.2, 0.5); lower=0, upper=2)\n    γ ~ truncated(Normal(3.0, 0.5); lower=1, upper=4)\n    δ ~ truncated(Normal(1.0, 0.5); lower=0, upper=2)\n\n    # Simulate Lotka-Volterra model but save only the second state of the system (predators).\n    p = [α, β, γ, δ]\n    predicted = solve(prob, Tsit5(); p=p, saveat=0.1, save_idxs=2)\n\n    # Observations of the predators.\n    data ~ MvNormal(predicted.u, σ^2 * I)\n\n    return nothing\nend\n\nmodel2 = fitlv2(odedata[2, :], prob)\n\n# Sample 3 independent chains.\nchain2 = sample(model2, NUTS(0.45), MCMCSerial(), 5000, 3; progress=false)"
      ],
      "metadata": {},
      "execution_count": null
    },
    {
      "cell_type": "markdown",
      "source": [
        "Again we inspect the trajectories of 300 randomly selected posterior samples."
      ],
      "metadata": {}
    },
    {
      "outputs": [],
      "cell_type": "code",
      "source": [
        "plot(; legend=false)\nposterior_samples = sample(chain2[[:α, :β, :γ, :δ]], 300; replace=false)\nfor p in eachrow(Array(posterior_samples))\n    sol_p = solve(prob, Tsit5(); p=p, saveat=0.1)\n    plot!(sol_p; alpha=0.1, color=\"#BBBBBB\")\nend\n\n# Plot simulation and noisy observations.\nplot!(sol; color=[1 2], linewidth=1)\nscatter!(sol.t, odedata'; color=[1 2])"
      ],
      "metadata": {},
      "execution_count": null
    },
    {
      "cell_type": "markdown",
      "source": [
        "Note that here the observations of the prey (blue dots) were not used in the parameter estimation!\nYet, the model can predict the values of $x$ relatively accurately, albeit with a wider distribution of solutions, reflecting the greater uncertainty in the prediction of the $x$ values.\n\n## Inference of Delay Differential Equations\n\nHere we show an example of inference with another type of differential equation: a Delay Differential Equation (DDE).\nDDEs are differential equations where derivatives are function of values at an earlier point in time.\nThis is useful to model a delayed effect, like incubation time of a virus for instance.\n\nHere is a delayed version of the Lokta-Voltera system:\n\n$$\n\\begin{aligned}\n\\frac{\\mathrm{d}x}{\\mathrm{d}t} &= \\alpha x(t-\\tau) - \\beta y(t) x(t),\\\\\n\\frac{\\mathrm{d}y}{\\mathrm{d}t} &= - \\gamma y(t) + \\delta x(t) y(t),\n\\end{aligned}\n$$\n\nwhere $\\tau$ is a (positive) delay and $x(t-\\tau)$ is the variable $x$ at an earlier time point $t - \\tau$.\n\nThe initial-value problem of the delayed system can be implemented as a [`DDEProblem`](https://diffeq.sciml.ai/stable/tutorials/dde_example/).\nAs described in the [DDE example](https://diffeq.sciml.ai/stable/tutorials/dde_example/), here the function `h` is the history function that can be used to obtain a state at an earlier time point.\nAgain we use parameters $\\alpha = 1.5$, $\\beta = 1$, $\\gamma = 3$, and $\\delta = 1$ and initial conditions $x(0) = y(0) = 1$.\nMoreover, we assume $x(t) = 1$ for $t < 0$."
      ],
      "metadata": {}
    },
    {
      "outputs": [],
      "cell_type": "code",
      "source": [
        "function delay_lotka_volterra(du, u, h, p, t)\n    # Model parameters.\n    α, β, γ, δ = p\n\n    # Current state.\n    x, y = u\n    # Evaluate differential equations\n    du[1] = α * h(p, t - 1; idxs=1) - β * x * y\n    du[2] = -γ * y + δ * x * y\n\n    return nothing\nend\n\n# Define initial-value problem.\np = (1.5, 1.0, 3.0, 1.0)\nu0 = [1.0; 1.0]\ntspan = (0.0, 10.0)\nh(p, t; idxs::Int) = 1.0\nprob_dde = DDEProblem(delay_lotka_volterra, u0, h, tspan, p);"
      ],
      "metadata": {},
      "execution_count": null
    },
    {
      "cell_type": "markdown",
      "source": [
        "We generate observations by adding normally distributed noise to the results of our simulations."
      ],
      "metadata": {}
    },
    {
      "outputs": [],
      "cell_type": "code",
      "source": [
        "sol_dde = solve(prob_dde; saveat=0.1)\nddedata = Array(sol_dde) + 0.5 * randn(size(sol_dde))\n\n# Plot simulation and noisy observations.\nplot(sol_dde)\nscatter!(sol_dde.t, ddedata'; color=[1 2], label=\"\")"
      ],
      "metadata": {},
      "execution_count": null
    },
    {
      "cell_type": "markdown",
      "source": [
        "Now we define the Turing model for the Lotka-Volterra model with delay and sample 3 independent chains."
      ],
      "metadata": {}
    },
    {
      "outputs": [],
      "cell_type": "code",
      "source": [
        "@model function fitlv_dde(data, prob)\n    # Prior distributions.\n    σ ~ InverseGamma(2, 3)\n    α ~ truncated(Normal(1.5, 0.5); lower=0.5, upper=2.5)\n    β ~ truncated(Normal(1.2, 0.5); lower=0, upper=2)\n    γ ~ truncated(Normal(3.0, 0.5); lower=1, upper=4)\n    δ ~ truncated(Normal(1.0, 0.5); lower=0, upper=2)\n\n    # Simulate Lotka-Volterra model.\n    p = [α, β, γ, δ]\n    predicted = solve(prob, MethodOfSteps(Tsit5()); p=p, saveat=0.1)\n\n    # Observations.\n    for i in 1:length(predicted)\n        data[:, i] ~ MvNormal(predicted[i], σ^2 * I)\n    end\nend\n\nmodel_dde = fitlv_dde(ddedata, prob_dde)\n\n# Sample 3 independent chains.\nchain_dde = sample(model_dde, NUTS(), MCMCSerial(), 300, 3; progress=false)"
      ],
      "metadata": {},
      "execution_count": null
    },
    {
      "outputs": [],
      "cell_type": "code",
      "source": [
        "plot(chain_dde)"
      ],
      "metadata": {},
      "execution_count": null
    },
    {
      "cell_type": "markdown",
      "source": [
        "Finally, plot trajectories of 300 randomly selected samples from the posterior.\nAgain, the dots indicate our observations, the colored lines are the \"true\" simulations without noise, and the gray lines are trajectories from the posterior samples."
      ],
      "metadata": {}
    },
    {
      "outputs": [],
      "cell_type": "code",
      "source": [
        "plot(; legend=false)\nposterior_samples = sample(chain_dde[[:α, :β, :γ, :δ]], 300; replace=false)\nfor p in eachrow(Array(posterior_samples))\n    sol_p = solve(prob_dde, MethodOfSteps(Tsit5()); p=p, saveat=0.1)\n    plot!(sol_p; alpha=0.1, color=\"#BBBBBB\")\nend\n\n# Plot simulation and noisy observations.\nplot!(sol_dde; color=[1 2], linewidth=1)\nscatter!(sol_dde.t, ddedata'; color=[1 2])"
      ],
      "metadata": {},
      "execution_count": null
    },
    {
      "cell_type": "markdown",
      "source": [
        "The fit is pretty good even though the data was quite noisy to start.\n\n## Scaling to Large Models: Adjoint Sensitivities\n\nDifferentialEquations.jl's efficiency for large stiff models has been shown in multiple [benchmarks](https://github.com/SciML/DiffEqBenchmarks.jl).\nTo learn more about how to optimize solving performance for stiff problems you can take a look at the [docs](https://docs.sciml.ai/latest/tutorials/advanced_ode_example/).\n\n[Sensitivity analysis](https://docs.sciml.ai/latest/analysis/sensitivity/), or automatic differentiation (AD) of the solver, is provided by the DiffEq suite.\nThe model sensitivities are the derivatives of the solution with respect to the parameters.\nSpecifically, the local sensitivity of the solution to a parameter is defined by how much the solution would change by changes in the parameter.\nSensitivity analysis provides a cheap way to calculate the gradient of the solution which can be used in parameter estimation and other optimization tasks.\n\nThe AD ecosystem in Julia allows you to switch between forward mode, reverse mode, source to source and other choices of AD and have it work with any Julia code.\nFor a user to make use of this within [SciML](https://sciml.ai), [high level interactions in `solve`](https://sensitivity.sciml.ai/dev/ad_examples/differentiating_ode/) automatically plug into those AD systems to allow for choosing advanced sensitivity analysis (derivative calculation) [methods](https://sensitivity.sciml.ai/dev/manual/differential_equation_sensitivities/).\n\nMore theoretical details on these methods can be found at: https://docs.sciml.ai/latest/extras/sensitivity_math/.\n\nWhile these sensitivity analysis methods may seem complicated, using them is dead simple.\nHere is a version of the Lotka-Volterra model using adjoint sensitivities.\n\nAll we have to do is switch the AD backend to one of the adjoint-compatible backends (ReverseDiff, Tracker, or Zygote)!\nNotice that on this model adjoints are slower.\nThis is because adjoints have a higher overhead on small parameter models and therefore we suggest using these methods only for models with around 100 parameters or more.\nFor more details, see https://arxiv.org/abs/1812.01892."
      ],
      "metadata": {}
    },
    {
      "outputs": [],
      "cell_type": "code",
      "source": [
        "using Zygote, SciMLSensitivity\n\n# Sample a single chain with 1000 samples using Zygote.\nsetadbackend(:zygote)\nsample(model, NUTS(), 1000; progress=false)"
      ],
      "metadata": {},
      "execution_count": null
    },
    {
      "cell_type": "markdown",
      "source": [
        "If desired, we can control the sensitivity analysis method that is used by providing the `sensealg` keyword argument to `solve`.\nHere we will not choose a `sensealg` and let it use the default choice:"
      ],
      "metadata": {}
    },
    {
      "outputs": [],
      "cell_type": "code",
      "source": [
        "@model function fitlv_sensealg(data, prob)\n    # Prior distributions.\n    σ ~ InverseGamma(2, 3)\n    α ~ truncated(Normal(1.5, 0.5); lower=0.5, upper=2.5)\n    β ~ truncated(Normal(1.2, 0.5); lower=0, upper=2)\n    γ ~ truncated(Normal(3.0, 0.5); lower=1, upper=4)\n    δ ~ truncated(Normal(1.0, 0.5); lower=0, upper=2)\n\n    # Simulate Lotka-Volterra model and use a specific algorithm for computing sensitivities.\n    p = [α, β, γ, δ]\n    predicted = solve(prob; p=p, saveat=0.1)\n\n    # Observations.\n    for i in 1:length(predicted)\n        data[:, i] ~ MvNormal(predicted[i], σ^2 * I)\n    end\n\n    return nothing\nend;\n\nmodel_sensealg = fitlv_sensealg(odedata, prob)\n\n# Sample a single chain with 1000 samples using Zygote.\nsetadbackend(:zygote)\nsample(model_sensealg, NUTS(), 1000; progress=false)"
      ],
      "metadata": {},
      "execution_count": null
    },
    {
      "cell_type": "markdown",
      "source": [
        "For more examples of adjoint usage on large parameter models, consult the [DiffEqFlux documentation](https://diffeqflux.sciml.ai/dev/).\n\n## Inference of a Stochastic Differential Equation\n\nA [Stochastic Differential Equation (SDE)](https://diffeq.sciml.ai/stable/tutorials/sde_example/) is a differential equation that has a stochastic (noise) term in the expression of the derivatives.\nHere we fit a stochastic version of the Lokta-Volterra system.\n\nWe use a quasi-likelihood approach in which all trajectories of a solution are compared instead of a reduction such as mean, this increases the robustness of fitting and makes the likelihood more identifiable.\nWe use SOSRI to solve the equation."
      ],
      "metadata": {}
    },
    {
      "outputs": [],
      "cell_type": "code",
      "source": [
        "u0 = [1.0, 1.0]\ntspan = (0.0, 10.0)\nfunction multiplicative_noise!(du, u, p, t)\n    x, y = u\n    du[1] = p[5] * x\n    return du[2] = p[6] * y\nend\np = [1.5, 1.0, 3.0, 1.0, 0.1, 0.1]\n\nfunction lotka_volterra!(du, u, p, t)\n    x, y = u\n    α, β, γ, δ = p\n    du[1] = dx = α * x - β * x * y\n    return du[2] = dy = δ * x * y - γ * y\nend\n\nprob_sde = SDEProblem(lotka_volterra!, multiplicative_noise!, u0, tspan, p)\n\nensembleprob = EnsembleProblem(prob_sde)\ndata = solve(ensembleprob, SOSRI(); saveat=0.1, trajectories=1000)\nplot(EnsembleSummary(data))"
      ],
      "metadata": {},
      "execution_count": null
    },
    {
      "outputs": [],
      "cell_type": "code",
      "source": [
        "@model function fitlv_sde(data, prob)\n    # Prior distributions.\n    σ ~ InverseGamma(2, 3)\n    α ~ truncated(Normal(1.3, 0.5); lower=0.5, upper=2.5)\n    β ~ truncated(Normal(1.2, 0.25); lower=0.5, upper=2)\n    γ ~ truncated(Normal(3.2, 0.25); lower=2.2, upper=4)\n    δ ~ truncated(Normal(1.2, 0.25); lower=0.5, upper=2)\n    ϕ1 ~ truncated(Normal(0.12, 0.3); lower=0.05, upper=0.25)\n    ϕ2 ~ truncated(Normal(0.12, 0.3); lower=0.05, upper=0.25)\n\n    # Simulate stochastic Lotka-Volterra model.\n    p = [α, β, γ, δ, ϕ1, ϕ2]\n    predicted = solve(prob, SOSRI(); p=p, saveat=0.1)\n\n    # Early exit if simulation could not be computed successfully.\n    if predicted.retcode !== :Success\n        Turing.@addlogprob! -Inf\n        return nothing\n    end\n\n    # Observations.\n    for i in 1:length(predicted)\n        data[:, i] ~ MvNormal(predicted[i], σ^2 * I)\n    end\n\n    return nothing\nend;"
      ],
      "metadata": {},
      "execution_count": null
    },
    {
      "cell_type": "markdown",
      "source": [
        "The probabilistic nature of the SDE solution makes the likelihood function noisy which poses a challenge for NUTS since the gradient is changing with every calculation.\nTherefore we use NUTS with a low target acceptance rate of `0.25` and specify a set of initial parameters.\nSGHMC might be a more suitable algorithm to be used here."
      ],
      "metadata": {}
    },
    {
      "outputs": [],
      "cell_type": "code",
      "source": [
        "model_sde = fitlv_sde(odedata, prob_sde)\n\nsetadbackend(:forwarddiff)\nchain_sde = sample(\n    model_sde,\n    NUTS(0.25),\n    5000;\n    init_params=[1.5, 1.3, 1.2, 2.7, 1.2, 0.12, 0.12],\n    progress=false,\n)\nplot(chain_sde)"
      ],
      "metadata": {},
      "execution_count": null
    },
    {
      "outputs": [],
      "cell_type": "code",
      "source": [
        "if isdefined(Main, :TuringTutorials)\n    Main.TuringTutorials.tutorial_footer(WEAVE_ARGS[:folder], WEAVE_ARGS[:file])\nend"
      ],
      "metadata": {},
      "execution_count": null
    }
  ],
  "nbformat_minor": 2,
  "metadata": {
    "language_info": {
      "file_extension": ".jl",
      "mimetype": "application/julia",
      "name": "julia",
      "version": "1.9.2"
    },
    "kernelspec": {
      "name": "julia-1.9",
      "display_name": "Julia 1.9.2",
      "language": "julia"
    }
  },
  "nbformat": 4
}
