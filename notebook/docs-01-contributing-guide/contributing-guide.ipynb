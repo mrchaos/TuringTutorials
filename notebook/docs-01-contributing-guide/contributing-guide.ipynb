{
  "cells": [
    {
      "cell_type": "markdown",
      "source": [
        "# Contributing\n\nTuring is an open source project. If you feel that you have some relevant skills and are interested in contributing, then please do get in touch. You can contribute by opening issues on GitHub or implementing things yourself and making a pull request. We would also appreciate example models written using Turing.\n\nTuring has a [style guide](%7B%7Bsite.baseurl%7D%7D/docs/contributing/style-guide). It is not strictly necessary to review it before making a pull request, but you may be asked to change portions of your code to conform with the style guide before it is merged.\n\n## How to Contribute\n\n### Getting Started\n\n  - [Fork this repository](https://github.com/TuringLang/Turing.jl#fork-destination-box).\n  - Clone your fork on your local machine: `git clone https://github.com/your_username/Turing.jl`.\n  - Add a remote corresponding to this repository:\n\n`git remote add upstream https://github.com/TuringLang/Turing.jl`.\n\n### What Can I Do?\n\nLook at the [issues](https://github.com/TuringLang/Turing.jl/issues) page to find an outstanding issue. For instance, you could implement new features, fix bugs or write example models.\n\n### Git Workflow\n\nFor more information on how the Git workflow typically functions, please see the [GitHub's introduction](https://guides.github.com/introduction/flow/) or [Julia's contribution guide](https://github.com/JuliaLang/julia/blob/master/CONTRIBUTING.md)."
      ],
      "metadata": {}
    }
  ],
  "nbformat_minor": 2,
  "metadata": {
    "language_info": {
      "file_extension": ".jl",
      "mimetype": "application/julia",
      "name": "julia",
      "version": "1.9.2"
    },
    "kernelspec": {
      "name": "julia-1.9",
      "display_name": "Julia 1.9.2",
      "language": "julia"
    }
  },
  "nbformat": 4
}
